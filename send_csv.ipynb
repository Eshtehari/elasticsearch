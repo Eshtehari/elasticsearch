{
 "cells": [
  {
   "attachments": {},
   "cell_type": "markdown",
   "metadata": {},
   "source": [
    "<div dir=\"rtl\">\n",
    "برای طراحی ایندکس در الاستیک‌سرچ ابتدا سعی می‌کنم یک دید کلی نسبت به مجموعه داده پیدا کنم.\n",
    "</div>"
   ]
  },
  {
   "cell_type": "code",
   "execution_count": 1,
   "metadata": {},
   "outputs": [
    {
     "data": {
      "text/html": [
       "<div>\n",
       "<style scoped>\n",
       "    .dataframe tbody tr th:only-of-type {\n",
       "        vertical-align: middle;\n",
       "    }\n",
       "\n",
       "    .dataframe tbody tr th {\n",
       "        vertical-align: top;\n",
       "    }\n",
       "\n",
       "    .dataframe thead th {\n",
       "        text-align: right;\n",
       "    }\n",
       "</style>\n",
       "<table border=\"1\" class=\"dataframe\">\n",
       "  <thead>\n",
       "    <tr style=\"text-align: right;\">\n",
       "      <th></th>\n",
       "      <th>title</th>\n",
       "      <th>url</th>\n",
       "      <th>contributors</th>\n",
       "      <th>date</th>\n",
       "      <th>format</th>\n",
       "      <th>fulltext_url</th>\n",
       "      <th>trove_id</th>\n",
       "      <th>language</th>\n",
       "      <th>rights</th>\n",
       "      <th>pages</th>\n",
       "      <th>form</th>\n",
       "      <th>volume</th>\n",
       "      <th>parent</th>\n",
       "      <th>children</th>\n",
       "      <th>text_downloaded</th>\n",
       "      <th>text_file</th>\n",
       "    </tr>\n",
       "  </thead>\n",
       "  <tbody>\n",
       "    <tr>\n",
       "      <th>0</th>\n",
       "      <td>Goliath Joe, fisherman / by Charles Thackeray ...</td>\n",
       "      <td>https://trove.nla.gov.au/work/10013347</td>\n",
       "      <td>Thackeray, Charles</td>\n",
       "      <td>1900-1919</td>\n",
       "      <td>Book|Book/Illustrated</td>\n",
       "      <td>https://nla.gov.au/nla.obj-2831231419</td>\n",
       "      <td>nla.obj-2831231419</td>\n",
       "      <td>English</td>\n",
       "      <td>Out of Copyright|http://rightsstatements.org/v...</td>\n",
       "      <td>130</td>\n",
       "      <td>Book</td>\n",
       "      <td>NaN</td>\n",
       "      <td>NaN</td>\n",
       "      <td>NaN</td>\n",
       "      <td>True</td>\n",
       "      <td>goliath-joe-fisherman-by-charles-thackeray-wob...</td>\n",
       "    </tr>\n",
       "    <tr>\n",
       "      <th>1</th>\n",
       "      <td>Grammar of the Narrinyeri tribe of Australian ...</td>\n",
       "      <td>https://trove.nla.gov.au/work/10029401</td>\n",
       "      <td>Taplin, George</td>\n",
       "      <td>1878-1880</td>\n",
       "      <td>Book|Government publication</td>\n",
       "      <td>http://nla.gov.au/nla.obj-688657424</td>\n",
       "      <td>nla.obj-688657424</td>\n",
       "      <td>English</td>\n",
       "      <td>Out of Copyright|http://rightsstatements.org/v...</td>\n",
       "      <td>24</td>\n",
       "      <td>Book</td>\n",
       "      <td>NaN</td>\n",
       "      <td>NaN</td>\n",
       "      <td>NaN</td>\n",
       "      <td>True</td>\n",
       "      <td>grammar-of-the-narrinyeri-tribe-of-australian-...</td>\n",
       "    </tr>\n",
       "    <tr>\n",
       "      <th>2</th>\n",
       "      <td>The works of the Rev. Sydney Smith</td>\n",
       "      <td>https://trove.nla.gov.au/work/1004403</td>\n",
       "      <td>Smith, Sydney, 1771-1845</td>\n",
       "      <td>1839-1900</td>\n",
       "      <td>Book|Book/Illustrated|Microform</td>\n",
       "      <td>https://nla.gov.au/nla.obj-630176596</td>\n",
       "      <td>nla.obj-630176596</td>\n",
       "      <td>English</td>\n",
       "      <td>No known copyright restrictions|http://rightss...</td>\n",
       "      <td>65</td>\n",
       "      <td>Book</td>\n",
       "      <td>NaN</td>\n",
       "      <td>NaN</td>\n",
       "      <td>NaN</td>\n",
       "      <td>True</td>\n",
       "      <td>the-works-of-the-rev-sydney-smith-nla.obj-6301...</td>\n",
       "    </tr>\n",
       "    <tr>\n",
       "      <th>3</th>\n",
       "      <td>Nellie Doran : a story of Australian home and ...</td>\n",
       "      <td>https://trove.nla.gov.au/work/10049667</td>\n",
       "      <td>Miriam Agatha</td>\n",
       "      <td>1914-1923</td>\n",
       "      <td>Book</td>\n",
       "      <td>http://nla.gov.au/nla.obj-24357566</td>\n",
       "      <td>nla.obj-24357566</td>\n",
       "      <td>English</td>\n",
       "      <td>Out of Copyright|http://rightsstatements.org/v...</td>\n",
       "      <td>246</td>\n",
       "      <td>Book</td>\n",
       "      <td>NaN</td>\n",
       "      <td>NaN</td>\n",
       "      <td>NaN</td>\n",
       "      <td>True</td>\n",
       "      <td>nellie-doran-a-story-of-australian-home-and-sc...</td>\n",
       "    </tr>\n",
       "    <tr>\n",
       "      <th>4</th>\n",
       "      <td>Lastkraftwagen 3 t Ford : Baumuster V 3000 S :...</td>\n",
       "      <td>https://trove.nla.gov.au/work/10053234</td>\n",
       "      <td>Germany. Heer. Heereswaffenamt</td>\n",
       "      <td>1942</td>\n",
       "      <td>Book|Book/Illustrated|Government publication</td>\n",
       "      <td>https://nla.gov.au/nla.obj-51530748</td>\n",
       "      <td>nla.obj-51530748</td>\n",
       "      <td>German</td>\n",
       "      <td>Out of Copyright|http://rightsstatements.org/v...</td>\n",
       "      <td>80</td>\n",
       "      <td>Book</td>\n",
       "      <td>NaN</td>\n",
       "      <td>NaN</td>\n",
       "      <td>NaN</td>\n",
       "      <td>True</td>\n",
       "      <td>lastkraftwagen-3-t-ford-baumuster-v-3000-s-ger...</td>\n",
       "    </tr>\n",
       "  </tbody>\n",
       "</table>\n",
       "</div>"
      ],
      "text/plain": [
       "                                               title  \\\n",
       "0  Goliath Joe, fisherman / by Charles Thackeray ...   \n",
       "1  Grammar of the Narrinyeri tribe of Australian ...   \n",
       "2                 The works of the Rev. Sydney Smith   \n",
       "3  Nellie Doran : a story of Australian home and ...   \n",
       "4  Lastkraftwagen 3 t Ford : Baumuster V 3000 S :...   \n",
       "\n",
       "                                      url                    contributors  \\\n",
       "0  https://trove.nla.gov.au/work/10013347              Thackeray, Charles   \n",
       "1  https://trove.nla.gov.au/work/10029401                  Taplin, George   \n",
       "2   https://trove.nla.gov.au/work/1004403        Smith, Sydney, 1771-1845   \n",
       "3  https://trove.nla.gov.au/work/10049667                   Miriam Agatha   \n",
       "4  https://trove.nla.gov.au/work/10053234  Germany. Heer. Heereswaffenamt   \n",
       "\n",
       "        date                                        format  \\\n",
       "0  1900-1919                         Book|Book/Illustrated   \n",
       "1  1878-1880                   Book|Government publication   \n",
       "2  1839-1900               Book|Book/Illustrated|Microform   \n",
       "3  1914-1923                                          Book   \n",
       "4       1942  Book|Book/Illustrated|Government publication   \n",
       "\n",
       "                            fulltext_url            trove_id language  \\\n",
       "0  https://nla.gov.au/nla.obj-2831231419  nla.obj-2831231419  English   \n",
       "1    http://nla.gov.au/nla.obj-688657424   nla.obj-688657424  English   \n",
       "2   https://nla.gov.au/nla.obj-630176596   nla.obj-630176596  English   \n",
       "3     http://nla.gov.au/nla.obj-24357566    nla.obj-24357566  English   \n",
       "4    https://nla.gov.au/nla.obj-51530748    nla.obj-51530748   German   \n",
       "\n",
       "                                              rights  pages  form  volume  \\\n",
       "0  Out of Copyright|http://rightsstatements.org/v...    130  Book     NaN   \n",
       "1  Out of Copyright|http://rightsstatements.org/v...     24  Book     NaN   \n",
       "2  No known copyright restrictions|http://rightss...     65  Book     NaN   \n",
       "3  Out of Copyright|http://rightsstatements.org/v...    246  Book     NaN   \n",
       "4  Out of Copyright|http://rightsstatements.org/v...     80  Book     NaN   \n",
       "\n",
       "  parent children  text_downloaded  \\\n",
       "0    NaN      NaN             True   \n",
       "1    NaN      NaN             True   \n",
       "2    NaN      NaN             True   \n",
       "3    NaN      NaN             True   \n",
       "4    NaN      NaN             True   \n",
       "\n",
       "                                           text_file  \n",
       "0  goliath-joe-fisherman-by-charles-thackeray-wob...  \n",
       "1  grammar-of-the-narrinyeri-tribe-of-australian-...  \n",
       "2  the-works-of-the-rev-sydney-smith-nla.obj-6301...  \n",
       "3  nellie-doran-a-story-of-australian-home-and-sc...  \n",
       "4  lastkraftwagen-3-t-ford-baumuster-v-3000-s-ger...  "
      ]
     },
     "execution_count": 1,
     "metadata": {},
     "output_type": "execute_result"
    }
   ],
   "source": [
    "import pandas as pd\n",
    "\n",
    "books = pd.read_csv('books_info.csv')\n",
    "\n",
    "books.head()\n"
   ]
  },
  {
   "cell_type": "code",
   "execution_count": 5,
   "metadata": {},
   "outputs": [
    {
     "data": {
      "text/plain": [
       "(42174, 16)"
      ]
     },
     "execution_count": 5,
     "metadata": {},
     "output_type": "execute_result"
    }
   ],
   "source": [
    "books.shape\n"
   ]
  },
  {
   "cell_type": "code",
   "execution_count": 6,
   "metadata": {},
   "outputs": [
    {
     "name": "stdout",
     "output_type": "stream",
     "text": [
      "<class 'pandas.core.frame.DataFrame'>\n",
      "RangeIndex: 42174 entries, 0 to 42173\n",
      "Data columns (total 16 columns):\n",
      " #   Column           Non-Null Count  Dtype  \n",
      "---  ------           --------------  -----  \n",
      " 0   title            42174 non-null  object \n",
      " 1   url              42174 non-null  object \n",
      " 2   contributors     35619 non-null  object \n",
      " 3   date             42086 non-null  object \n",
      " 4   format           42174 non-null  object \n",
      " 5   fulltext_url     42174 non-null  object \n",
      " 6   trove_id         42174 non-null  object \n",
      " 7   language         27890 non-null  object \n",
      " 8   rights           27765 non-null  object \n",
      " 9   pages            42174 non-null  int64  \n",
      " 10  form             42158 non-null  object \n",
      " 11  volume           1423 non-null   float64\n",
      " 12  parent           1423 non-null   object \n",
      " 13  children         240 non-null    object \n",
      " 14  text_downloaded  42174 non-null  bool   \n",
      " 15  text_file        29652 non-null  object \n",
      "dtypes: bool(1), float64(1), int64(1), object(13)\n",
      "memory usage: 4.9+ MB\n"
     ]
    }
   ],
   "source": [
    "books.info()\n"
   ]
  },
  {
   "cell_type": "code",
   "execution_count": 7,
   "metadata": {},
   "outputs": [
    {
     "data": {
      "text/html": [
       "<div>\n",
       "<style scoped>\n",
       "    .dataframe tbody tr th:only-of-type {\n",
       "        vertical-align: middle;\n",
       "    }\n",
       "\n",
       "    .dataframe tbody tr th {\n",
       "        vertical-align: top;\n",
       "    }\n",
       "\n",
       "    .dataframe thead th {\n",
       "        text-align: right;\n",
       "    }\n",
       "</style>\n",
       "<table border=\"1\" class=\"dataframe\">\n",
       "  <thead>\n",
       "    <tr style=\"text-align: right;\">\n",
       "      <th></th>\n",
       "      <th>pages</th>\n",
       "      <th>volume</th>\n",
       "    </tr>\n",
       "  </thead>\n",
       "  <tbody>\n",
       "    <tr>\n",
       "      <th>count</th>\n",
       "      <td>42174.000000</td>\n",
       "      <td>1423.000000</td>\n",
       "    </tr>\n",
       "    <tr>\n",
       "      <th>mean</th>\n",
       "      <td>57.087803</td>\n",
       "      <td>130.380183</td>\n",
       "    </tr>\n",
       "    <tr>\n",
       "      <th>std</th>\n",
       "      <td>116.221688</td>\n",
       "      <td>183.899416</td>\n",
       "    </tr>\n",
       "    <tr>\n",
       "      <th>min</th>\n",
       "      <td>0.000000</td>\n",
       "      <td>1.000000</td>\n",
       "    </tr>\n",
       "    <tr>\n",
       "      <th>25%</th>\n",
       "      <td>0.000000</td>\n",
       "      <td>2.000000</td>\n",
       "    </tr>\n",
       "    <tr>\n",
       "      <th>50%</th>\n",
       "      <td>15.000000</td>\n",
       "      <td>13.000000</td>\n",
       "    </tr>\n",
       "    <tr>\n",
       "      <th>75%</th>\n",
       "      <td>58.000000</td>\n",
       "      <td>244.500000</td>\n",
       "    </tr>\n",
       "    <tr>\n",
       "      <th>max</th>\n",
       "      <td>1824.000000</td>\n",
       "      <td>600.000000</td>\n",
       "    </tr>\n",
       "  </tbody>\n",
       "</table>\n",
       "</div>"
      ],
      "text/plain": [
       "              pages       volume\n",
       "count  42174.000000  1423.000000\n",
       "mean      57.087803   130.380183\n",
       "std      116.221688   183.899416\n",
       "min        0.000000     1.000000\n",
       "25%        0.000000     2.000000\n",
       "50%       15.000000    13.000000\n",
       "75%       58.000000   244.500000\n",
       "max     1824.000000   600.000000"
      ]
     },
     "execution_count": 7,
     "metadata": {},
     "output_type": "execute_result"
    }
   ],
   "source": [
    "books.describe()\n"
   ]
  },
  {
   "cell_type": "code",
   "execution_count": 2,
   "metadata": {},
   "outputs": [
    {
     "data": {
      "text/plain": [
       "title              42174\n",
       "url                42174\n",
       "contributors       35619\n",
       "date               42086\n",
       "format             42174\n",
       "fulltext_url       42174\n",
       "trove_id           42174\n",
       "language           27890\n",
       "rights             27765\n",
       "pages              42174\n",
       "form               42158\n",
       "volume              1423\n",
       "parent              1423\n",
       "children             240\n",
       "text_downloaded    42174\n",
       "text_file          29652\n",
       "dtype: int64"
      ]
     },
     "execution_count": 2,
     "metadata": {},
     "output_type": "execute_result"
    }
   ],
   "source": [
    "books.count()\n"
   ]
  },
  {
   "cell_type": "code",
   "execution_count": 12,
   "metadata": {},
   "outputs": [
    {
     "data": {
      "text/plain": [
       "title                  0\n",
       "url                    0\n",
       "contributors        6555\n",
       "date                  88\n",
       "format                 0\n",
       "fulltext_url           0\n",
       "trove_id               0\n",
       "language           14284\n",
       "rights             14409\n",
       "pages                  0\n",
       "form                  16\n",
       "volume             40751\n",
       "parent             40751\n",
       "children           41934\n",
       "text_downloaded        0\n",
       "text_file          12522\n",
       "dtype: int64"
      ]
     },
     "execution_count": 12,
     "metadata": {},
     "output_type": "execute_result"
    }
   ],
   "source": [
    "books.isna().sum()\n"
   ]
  },
  {
   "cell_type": "code",
   "execution_count": 17,
   "metadata": {},
   "outputs": [
    {
     "data": {
      "text/plain": [
       "0"
      ]
     },
     "execution_count": 17,
     "metadata": {},
     "output_type": "execute_result"
    }
   ],
   "source": [
    "books.duplicated().sum()\n"
   ]
  },
  {
   "cell_type": "code",
   "execution_count": 99,
   "metadata": {},
   "outputs": [
    {
     "data": {
      "text/plain": [
       "3117"
      ]
     },
     "execution_count": 99,
     "metadata": {},
     "output_type": "execute_result"
    }
   ],
   "source": [
    "books['trove_id'].duplicated().sum()\n"
   ]
  },
  {
   "attachments": {},
   "cell_type": "markdown",
   "metadata": {},
   "source": [
    "<div dir=\"rtl\">\n",
    "از اونجایی‌که نمونه‌ی ستون‌های volume، parent و children را به علت تهی بودن مقادیر در head در بالا ندیدیم، ایجا نمایششان می‌دهم.\n",
    "</div>"
   ]
  },
  {
   "cell_type": "code",
   "execution_count": 3,
   "metadata": {},
   "outputs": [
    {
     "data": {
      "text/plain": [
       "71       1.0\n",
       "72       2.0\n",
       "104      1.0\n",
       "105      2.0\n",
       "227      1.0\n",
       "        ... \n",
       "42060    2.0\n",
       "42064    1.0\n",
       "42065    2.0\n",
       "42111    1.0\n",
       "42112    2.0\n",
       "Name: volume, Length: 1423, dtype: float64"
      ]
     },
     "metadata": {},
     "output_type": "display_data"
    },
    {
     "data": {
      "text/plain": [
       "71         nla.obj-60272760\n",
       "72         nla.obj-60272760\n",
       "104      nla.obj-2428558076\n",
       "105      nla.obj-2428558076\n",
       "227        nla.obj-77324653\n",
       "                ...        \n",
       "42060      nla.obj-63407750\n",
       "42064    nla.obj-1335763041\n",
       "42065    nla.obj-1335763041\n",
       "42111     nla.obj-396862927\n",
       "42112     nla.obj-396862927\n",
       "Name: parent, Length: 1423, dtype: object"
      ]
     },
     "metadata": {},
     "output_type": "display_data"
    },
    {
     "data": {
      "text/plain": [
       "73                       nla.obj-60272771|nla.obj-60272783\n",
       "106                  nla.obj-2438504941|nla.obj-2438506988\n",
       "228                                       nla.obj-77324219\n",
       "256                     nla.obj-412255342|nla.obj-75124485\n",
       "273                     nla.obj-396883876|nla.obj-61875251\n",
       "                               ...                        \n",
       "41856    nla.obj-1194416238|nla.obj-1194416440|nla.obj-...\n",
       "42022    nla.obj-1385727717|nla.obj-1385745492|nla.obj-...\n",
       "42061                    nla.obj-63407775|nla.obj-74680162\n",
       "42066                nla.obj-1351153218|nla.obj-1351153613\n",
       "42113                   nla.obj-398086951|nla.obj-52789767\n",
       "Name: children, Length: 240, dtype: object"
      ]
     },
     "metadata": {},
     "output_type": "display_data"
    }
   ],
   "source": [
    "temp = books[books['volume'].notna()]\n",
    "display(temp['volume'])\n",
    "\n",
    "temp = books[books['parent'].notna()]\n",
    "display(temp['parent'])\n",
    "\n",
    "temp = books[books['children'].notna()]\n",
    "display(temp['children'])\n"
   ]
  },
  {
   "attachments": {},
   "cell_type": "markdown",
   "metadata": {},
   "source": [
    "<div dir=\"rtl\">\n",
    "اعداد ستون volume به‌صورت x.0 تعریف شده است.\n",
    "</div>"
   ]
  },
  {
   "cell_type": "code",
   "execution_count": 13,
   "metadata": {},
   "outputs": [
    {
     "data": {
      "text/html": [
       "<div>\n",
       "<style scoped>\n",
       "    .dataframe tbody tr th:only-of-type {\n",
       "        vertical-align: middle;\n",
       "    }\n",
       "\n",
       "    .dataframe tbody tr th {\n",
       "        vertical-align: top;\n",
       "    }\n",
       "\n",
       "    .dataframe thead th {\n",
       "        text-align: right;\n",
       "    }\n",
       "</style>\n",
       "<table border=\"1\" class=\"dataframe\">\n",
       "  <thead>\n",
       "    <tr style=\"text-align: right;\">\n",
       "      <th></th>\n",
       "      <th>title</th>\n",
       "      <th>url</th>\n",
       "      <th>contributors</th>\n",
       "      <th>date</th>\n",
       "      <th>format</th>\n",
       "      <th>fulltext_url</th>\n",
       "      <th>trove_id</th>\n",
       "      <th>language</th>\n",
       "      <th>rights</th>\n",
       "      <th>pages</th>\n",
       "      <th>form</th>\n",
       "      <th>volume</th>\n",
       "      <th>parent</th>\n",
       "      <th>children</th>\n",
       "      <th>text_downloaded</th>\n",
       "      <th>text_file</th>\n",
       "    </tr>\n",
       "  </thead>\n",
       "  <tbody>\n",
       "  </tbody>\n",
       "</table>\n",
       "</div>"
      ],
      "text/plain": [
       "Empty DataFrame\n",
       "Columns: [title, url, contributors, date, format, fulltext_url, trove_id, language, rights, pages, form, volume, parent, children, text_downloaded, text_file]\n",
       "Index: []"
      ]
     },
     "metadata": {},
     "output_type": "display_data"
    }
   ],
   "source": [
    "temp = books[(~books['volume'].astype('str').str.contains('.0')) & (books['volume'].notna())]\n",
    "display(temp.head())\n"
   ]
  },
  {
   "attachments": {},
   "cell_type": "markdown",
   "metadata": {},
   "source": [
    "<div dir=\"rtl\">\n",
    "آیا ستون contributors، format یا children چند مقداری هستند؟\n",
    "</div>"
   ]
  },
  {
   "cell_type": "code",
   "execution_count": 27,
   "metadata": {},
   "outputs": [
    {
     "data": {
      "text/plain": [
       "18       Academic Salaries Tribunal (Australia)| THE PA...\n",
       "126      Australia. Parliament. Senate| The Senate| Aus...\n",
       "155      Australia. Parliament. Senate| The Senate| Aus...\n",
       "178      Australian Institute of Multicultural Affairs|...\n",
       "224      Australia. Public Service Board| | Australia. ...\n",
       "                               ...                        \n",
       "41175    Commonwealth Grants Commission (Australia)| Au...\n",
       "41768    Australia. Parliament. Department of the Senat...\n",
       "41944    Australian Broadcasting Commission| E. W. GARSIDE\n",
       "41984    Gas and Fuel Corporation of Victoria| | Gas an...\n",
       "41997    Royal Australian Historical Society| | Royal A...\n",
       "Name: contributors, Length: 61, dtype: object"
      ]
     },
     "metadata": {},
     "output_type": "display_data"
    }
   ],
   "source": [
    "temp = books[(books['contributors'].astype('str').str.contains('\\|'))]\n",
    "display(temp['contributors'])\n"
   ]
  },
  {
   "cell_type": "code",
   "execution_count": 7,
   "metadata": {},
   "outputs": [
    {
     "data": {
      "text/plain": [
       "0                                    Book|Book/Illustrated\n",
       "1                              Book|Government publication\n",
       "2                          Book|Book/Illustrated|Microform\n",
       "4             Book|Book/Illustrated|Government publication\n",
       "5                                    Book|Book/Illustrated\n",
       "                               ...                        \n",
       "42167                   Book|Article/Other article|Article\n",
       "42168                                Book|Book/Illustrated\n",
       "42169                                Book|Book/Illustrated\n",
       "42172                                Book|Book/Illustrated\n",
       "42173    Government publication|Book|Book/Illustrated|A...\n",
       "Name: format, Length: 15962, dtype: object"
      ]
     },
     "metadata": {},
     "output_type": "display_data"
    }
   ],
   "source": [
    "temp = books[(books['format'].astype('str').str.contains('\\|'))]\n",
    "display(temp['format'])\n"
   ]
  },
  {
   "cell_type": "code",
   "execution_count": 8,
   "metadata": {},
   "outputs": [
    {
     "data": {
      "text/plain": [
       "73                       nla.obj-60272771|nla.obj-60272783\n",
       "106                  nla.obj-2438504941|nla.obj-2438506988\n",
       "256                     nla.obj-412255342|nla.obj-75124485\n",
       "273                     nla.obj-396883876|nla.obj-61875251\n",
       "294                     nla.obj-375325055|nla.obj-42322220\n",
       "                               ...                        \n",
       "41856    nla.obj-1194416238|nla.obj-1194416440|nla.obj-...\n",
       "42022    nla.obj-1385727717|nla.obj-1385745492|nla.obj-...\n",
       "42061                    nla.obj-63407775|nla.obj-74680162\n",
       "42066                nla.obj-1351153218|nla.obj-1351153613\n",
       "42113                   nla.obj-398086951|nla.obj-52789767\n",
       "Name: children, Length: 201, dtype: object"
      ]
     },
     "metadata": {},
     "output_type": "display_data"
    }
   ],
   "source": [
    "temp = books[(books['children'].astype('str').str.contains('\\|'))]\n",
    "display(temp['children'])\n"
   ]
  },
  {
   "attachments": {},
   "cell_type": "markdown",
   "metadata": {},
   "source": [
    "<div dir=\"rtl\">\n",
    "آیا تمامی نمونه‌های ستون date به‌صورت رنج تعریف شده‌اند؟\n",
    "</div>"
   ]
  },
  {
   "cell_type": "code",
   "execution_count": 35,
   "metadata": {},
   "outputs": [
    {
     "data": {
      "text/plain": [
       "4        1942\n",
       "6        1909\n",
       "7        1915\n",
       "8        1888\n",
       "9        1545\n",
       "         ... \n",
       "42165    1837\n",
       "42167    1914\n",
       "42168    1951\n",
       "42169    1906\n",
       "42173    1980\n",
       "Name: date, Length: 37113, dtype: object"
      ]
     },
     "metadata": {},
     "output_type": "display_data"
    }
   ],
   "source": [
    "temp = books[(~books['date'].astype('str').str.contains('-'))]\n",
    "display(temp['date'])\n"
   ]
  },
  {
   "cell_type": "code",
   "execution_count": 36,
   "metadata": {},
   "outputs": [
    {
     "data": {
      "text/plain": [
       "0        1900-1919\n",
       "1        1878-1880\n",
       "2        1839-1900\n",
       "3        1914-1923\n",
       "5        1900-1920\n",
       "           ...    \n",
       "42160    1953-1977\n",
       "42166    1935-1980\n",
       "42170    1931-1934\n",
       "42171    1980-2021\n",
       "42172    1861-1980\n",
       "Name: date, Length: 5061, dtype: object"
      ]
     },
     "metadata": {},
     "output_type": "display_data"
    }
   ],
   "source": [
    "temp = books[(books['date'].astype('str').str.contains('-'))]\n",
    "display(temp['date'])\n"
   ]
  },
  {
   "attachments": {},
   "cell_type": "markdown",
   "metadata": {},
   "source": [
    "<div dir=\"rtl\">\n",
    "نوع ستون text_downloaded چگونه است؟\n",
    "</div>"
   ]
  },
  {
   "cell_type": "code",
   "execution_count": 40,
   "metadata": {},
   "outputs": [
    {
     "data": {
      "text/plain": [
       "True"
      ]
     },
     "execution_count": 40,
     "metadata": {},
     "output_type": "execute_result"
    }
   ],
   "source": [
    "bool(books['text_downloaded'][0])\n"
   ]
  },
  {
   "attachments": {},
   "cell_type": "markdown",
   "metadata": {},
   "source": [
    "# Send to Elastic"
   ]
  },
  {
   "cell_type": "code",
   "execution_count": 11,
   "metadata": {},
   "outputs": [
    {
     "name": "stdout",
     "output_type": "stream",
     "text": [
      "42174"
     ]
    },
    {
     "data": {
      "text/plain": [
       "ObjectApiResponse({'_shards': {'total': 2, 'successful': 1, 'failed': 0}})"
      ]
     },
     "execution_count": 11,
     "metadata": {},
     "output_type": "execute_result"
    }
   ],
   "source": [
    "from elasticsearch import Elasticsearch\n",
    "import csv\n",
    "import re\n",
    "\n",
    "es = Elasticsearch([{'host': 'localhost', 'port': 9200, 'scheme': 'http'}])\n",
    "\n",
    "index_name = 'books'\n",
    "\n",
    "index_mappings = {\n",
    "    \"properties\": {\n",
    "        \"title\": {\"type\": \"text\"},\n",
    "        \"url\": {\"type\": \"keyword\"},\n",
    "        \"contributors\": {\"type\": \"text\"}, # array\n",
    "        \"date\": {\"type\": \"date_range\", \"format\": \"yyyy\"},\n",
    "        \"format\": {\"type\": \"keyword\"}, # array\n",
    "        \"fulltext_url\": {\"type\": \"keyword\"},\n",
    "        \"trove_id\": {\"type\": \"keyword\"},\n",
    "        \"language\": {\"type\": \"keyword\"},\n",
    "        \"rights\": {\"type\": \"text\"},\n",
    "        \"pages\": {\"type\": \"long\"},\n",
    "        \"form\": {\"type\": \"keyword\"},\n",
    "        \"volume\": {\"type\": \"float\"},\n",
    "        \"children\": {\"type\": \"keyword\"}, # array\n",
    "        \"parent\": {\"type\": \"keyword\"},\n",
    "        \"text_downloaded\": {\"type\": \"boolean\"},\n",
    "        \"text_file\": {\"type\": \"text\"}\n",
    "    }\n",
    "}\n",
    "\n",
    "try:\n",
    "    es.indices.delete(index=index_name)\n",
    "except:\n",
    "    pass\n",
    "\n",
    "es.indices.create(index=index_name, mappings=index_mappings)\n",
    "\n",
    "csv_file = 'books_info.csv'\n",
    "\n",
    "with open(csv_file, 'r', encoding='utf-8') as fd:\n",
    "    reader = csv.DictReader(fd)\n",
    "    c = 0\n",
    "    for row in reader:\n",
    "        # arrays\n",
    "        row['contributors'] = [row['contributors'].split('|')]\n",
    "        row['format'] = [row['format'].split('|')]\n",
    "        row['children'] = [row['children'].split('|')]\n",
    "        \n",
    "        # date\n",
    "        if '-' in row['date']:\n",
    "            row['date'] = {'gte': row['date'].split('-')[0], 'lte': row['date'].split('-')[1]}\n",
    "        # Added this elif for error: BadRequestError: BadRequestError(400, 'mapper_parsing_exception', 'failed to parse date field [191] with format [yyyy]: [failed to parse date field [191] with format [yyyy]]')\n",
    "        elif not re.match('\\d{4}', row['date']):    \n",
    "            row['date'] = {}    \n",
    "        # Added this elif for error: BadRequestError: BadRequestError(400, 'mapper_parsing_exception', 'cannot parse empty date')\n",
    "        elif row['date'].strip() != '':\n",
    "            row['date'] = {'gte': row['date'], 'lte': row['date']}\n",
    "        else:\n",
    "            row['date'] = {}\n",
    "\n",
    "        # boolean\n",
    "        if row['text_downloaded'] == 'False':\n",
    "            row['text_downloaded'] = False\n",
    "        else:\n",
    "            row['text_downloaded'] = bool(row['text_downloaded'])\n",
    "\n",
    "        es.index(index=index_name, document=row)\n",
    "\n",
    "        c = c + 1\n",
    "        print('\\r{}'.format(c), end='')\n",
    "\n",
    "es.indices.refresh(index=index_name)\n"
   ]
  },
  {
   "cell_type": "code",
   "execution_count": 6,
   "metadata": {},
   "outputs": [
    {
     "name": "stdout",
     "output_type": "stream",
     "text": [
      "{'title': 'Goliath Joe, fisherman / by Charles Thackeray (Wobbegong)', 'url': 'https://trove.nla.gov.au/work/10013347', 'contributors': 'Thackeray, Charles', 'date': '1900-1919', 'format': 'Book|Book/Illustrated', 'fulltext_url': 'https://nla.gov.au/nla.obj-2831231419', 'trove_id': 'nla.obj-2831231419', 'language': 'English', 'rights': 'Out of Copyright|http://rightsstatements.org/vocab/NKC/1.0/', 'pages': '130', 'form': 'Book', 'volume': '', 'parent': '', 'children': '', 'text_downloaded': 'True', 'text_file': 'goliath-joe-fisherman-by-charles-thackeray-wob-nla.obj-2831231419.txt'}\n"
     ]
    }
   ],
   "source": [
    "import csv\n",
    "csv_file = 'books_info.csv'\n",
    "with open(csv_file, 'r', encoding='utf-8') as fd:\n",
    "    reader = csv.DictReader(fd)\n",
    "    for row in reader:\n",
    "        print(row)\n",
    "        break\n"
   ]
  },
  {
   "attachments": {},
   "cell_type": "markdown",
   "metadata": {},
   "source": [
    "# From Elastic to Cassandra"
   ]
  },
  {
   "cell_type": "code",
   "execution_count": 7,
   "metadata": {},
   "outputs": [],
   "source": [
    "import uuid\n",
    "from cassandra.cqlengine import columns, connection\n",
    "from cassandra.cqlengine.management import sync_table\n",
    "from cassandra.cqlengine.models import Model\n",
    "from cassandra.cqlengine.query import BatchQuery\n",
    "from cassandra.cluster import Cluster\n"
   ]
  },
  {
   "cell_type": "code",
   "execution_count": 71,
   "metadata": {},
   "outputs": [],
   "source": [
    "cluster = Cluster(['127.0.0.1'])\n",
    "session = cluster.connect()\n",
    "session.execute(\"DROP KEYSPACE IF EXISTS books\")\n",
    "session.execute(\"CREATE KEYSPACE IF NOT EXISTS books WITH replication = {'class': 'SimpleStrategy', 'replication_factor' : 1};\")\n",
    "session.shutdown()\n"
   ]
  },
  {
   "cell_type": "code",
   "execution_count": 73,
   "metadata": {},
   "outputs": [],
   "source": [
    "class Children(Model):\n",
    "    trove_id = columns.Text(primary_key=True)\n",
    "    title = columns.Text()\n",
    "    contributors = columns.List(columns.Text())\n",
    "    url = columns.Text()\n",
    "    fulltext_url = columns.Text()\n",
    "    format = columns.List(columns.Text())\n",
    "    date = columns.DateTime()\n",
    "    pages = columns.BigInt()\n",
    "\n",
    "class Parents(Model):\n",
    "    trove_id = columns.Text(primary_key=True)\n",
    "    title = columns.Text()\n",
    "    contributors = columns.List(columns.Text())\n",
    "    url = columns.Text()\n",
    "    fulltext_url = columns.Text()\n",
    "    format = columns.List(columns.Text())\n",
    "    date = columns.DateTime()\n",
    "    pages = columns.BigInt()\n",
    "\n",
    "connection.setup(['127.0.0.1'], \"books\", protocol_version=3)\n",
    "\n",
    "sync_table(Children)\n",
    "sync_table(Parents)\n"
   ]
  },
  {
   "attachments": {},
   "cell_type": "markdown",
   "metadata": {},
   "source": [
    "## Children table"
   ]
  },
  {
   "cell_type": "code",
   "execution_count": 106,
   "metadata": {},
   "outputs": [
    {
     "name": "stdout",
     "output_type": "stream",
     "text": [
      "100\n",
      "nla.obj-2376117115\n",
      "100\n",
      "nla.obj-268958926\n",
      "100\n",
      "nla.obj-389796893\n",
      "100\n",
      "nla.obj-501309709\n",
      "100\n",
      "nla.obj-56126203\n",
      "100\n",
      "nla.obj-56145749\n",
      "100\n",
      "nla.obj-56155742\n",
      "100\n",
      "nla.obj-56165741\n",
      "100\n",
      "nla.obj-56175745\n",
      "100\n",
      "nla.obj-56185743\n",
      "100\n",
      "nla.obj-57506422\n",
      "100\n",
      "nla.obj-58731599\n",
      "100\n",
      "nla.obj-69157444\n",
      "100\n",
      "nla.obj-76678742\n",
      "23\n",
      "nla.obj-888591854\n",
      "0\n"
     ]
    }
   ],
   "source": [
    "from elasticsearch import Elasticsearch\n",
    "import csv\n",
    "import re\n",
    "from datetime import datetime\n",
    "from pprint import pprint\n",
    "\n",
    "es = Elasticsearch([{'host': 'localhost', 'port': 9200, 'scheme': 'http'}])\n",
    "\n",
    "index_name = 'books'\n",
    "date_format = \"%Y\"\n",
    "\n",
    "# search_body = {\n",
    "#     \"query\": {\n",
    "#         \"bool\": {\n",
    "#             \"must_not\": {\n",
    "#                 \"term\": {\n",
    "#                     \"parent\": \"\"\n",
    "#                 }\n",
    "#             }\n",
    "#         }\n",
    "#     },\n",
    "#     \"sort\": [\n",
    "#         {\"trove_id\": \"asc\"},\n",
    "#         {\"url\": \"desc\"}\n",
    "#     ]\n",
    "# }\n",
    "# result = es.search(index=index_name, body=search_query)\n",
    "\n",
    "search_query = {\n",
    "    \"bool\": {\n",
    "        \"must_not\": {\n",
    "            \"term\": {\n",
    "                \"parent\": \"\"\n",
    "            }\n",
    "        }\n",
    "    }\n",
    "}\n",
    "search_sort = [\n",
    "        {\"trove_id\": \"asc\"},\n",
    "        {\"url\": \"desc\"}\n",
    "    ]\n",
    "result = es.search(index=index_name, query=search_query, sort=search_sort, size=100)\n",
    "\n",
    "# pprint(result)\n",
    "\n",
    "while True:\n",
    "    print(len(result['hits']['hits']))\n",
    "    if not len(result['hits']['hits']):\n",
    "        break\n",
    "\n",
    "    batch = BatchQuery()\n",
    "    for hit in result['hits']['hits']:\n",
    "        trove_id = hit['_source']['trove_id']\n",
    "        title = hit['_source']['title']\n",
    "        contributors = hit['_source']['contributors']\n",
    "        if isinstance(contributors, list):\n",
    "            contributors = contributors[0] # reason: \"format\": [[\"Book\", \"Book/Illustrated\", \"Microform\"]],\n",
    "        url = hit['_source']['url']\n",
    "        fulltext_url = hit['_source']['fulltext_url']\n",
    "        book_format = hit['_source']['format']\n",
    "        if isinstance(book_format, list):\n",
    "            book_format = book_format[0]\n",
    "        date = hit['_source']['date']\n",
    "        if 'lte' in date:\n",
    "            date = datetime.strptime(date['lte'], date_format)\n",
    "        elif date:\n",
    "            date = datetime.strptime(date, date_format)\n",
    "        else:\n",
    "            date = None\n",
    "        pages = int(hit['_source']['pages'])\n",
    "        \n",
    "        Children.batch(batch).create(\n",
    "            trove_id = trove_id,\n",
    "            title = title,\n",
    "            contributors = contributors,\n",
    "            url = url,\n",
    "            fulltext_url = fulltext_url,\n",
    "            format = book_format,\n",
    "            date = date,\n",
    "            pages = pages\n",
    "        )\n",
    "        \n",
    "    batch.execute()\n",
    "\n",
    "    result = es.search(index=index_name, query=search_query, sort=search_sort, search_after=[trove_id, url], size=100)\n",
    "    print('{}'.format(trove_id))\n"
   ]
  },
  {
   "attachments": {},
   "cell_type": "markdown",
   "metadata": {},
   "source": [
    "## Parents table"
   ]
  },
  {
   "cell_type": "code",
   "execution_count": 108,
   "metadata": {},
   "outputs": [
    {
     "name": "stdout",
     "output_type": "stream",
     "text": [
      "100\n",
      "nla.obj-410216858\n",
      "100\n",
      "nla.obj-60720830\n",
      "40\n",
      "nla.obj-953535548\n",
      "0\n"
     ]
    }
   ],
   "source": [
    "from elasticsearch import Elasticsearch\n",
    "import csv\n",
    "import re\n",
    "from datetime import datetime\n",
    "from pprint import pprint\n",
    "\n",
    "es = Elasticsearch([{'host': 'localhost', 'port': 9200, 'scheme': 'http'}])\n",
    "\n",
    "index_name = 'books'\n",
    "date_format = \"%Y\"\n",
    "\n",
    "\n",
    "search_query = {\n",
    "    \"bool\": {\n",
    "        \"must_not\": {\n",
    "            \"term\": {\n",
    "                \"children\": \"\"\n",
    "            }\n",
    "        }\n",
    "    }\n",
    "}\n",
    "search_sort = [\n",
    "        {\"trove_id\": \"asc\"},\n",
    "        {\"url\": \"desc\"}\n",
    "    ]\n",
    "result = es.search(index=index_name, query=search_query, sort=search_sort, size=100)\n",
    "\n",
    "while True:\n",
    "    print(len(result['hits']['hits']))\n",
    "    if not len(result['hits']['hits']):\n",
    "        break\n",
    "\n",
    "    batch = BatchQuery()\n",
    "    for hit in result['hits']['hits']:\n",
    "        trove_id = hit['_source']['trove_id']\n",
    "        title = hit['_source']['title']\n",
    "        contributors = hit['_source']['contributors']\n",
    "        if isinstance(contributors, list):\n",
    "            contributors = contributors[0]\n",
    "        url = hit['_source']['url']\n",
    "        fulltext_url = hit['_source']['fulltext_url']\n",
    "        book_format = hit['_source']['format']\n",
    "        if isinstance(book_format, list):\n",
    "            book_format = book_format[0]\n",
    "        date = hit['_source']['date']\n",
    "        if 'lte' in date:\n",
    "            date = datetime.strptime(date['lte'], date_format)\n",
    "        elif date:\n",
    "            date = datetime.strptime(date, date_format)\n",
    "        else:\n",
    "            date = None\n",
    "        pages = int(hit['_source']['pages'])\n",
    "        \n",
    "        Parents.batch(batch).create(\n",
    "            trove_id = trove_id,\n",
    "            title = title,\n",
    "            contributors = contributors,\n",
    "            url = url,\n",
    "            fulltext_url = fulltext_url,\n",
    "            format = book_format,\n",
    "            date = date,\n",
    "            pages = pages\n",
    "        )\n",
    "        \n",
    "    batch.execute()\n",
    "\n",
    "    result = es.search(index=index_name, query=search_query, sort=search_sort, search_after=[trove_id, url], size=100)\n",
    "    print('{}'.format(trove_id))\n"
   ]
  }
 ],
 "metadata": {
  "kernelspec": {
   "display_name": "base",
   "language": "python",
   "name": "python3"
  },
  "language_info": {
   "codemirror_mode": {
    "name": "ipython",
    "version": 3
   },
   "file_extension": ".py",
   "mimetype": "text/x-python",
   "name": "python",
   "nbconvert_exporter": "python",
   "pygments_lexer": "ipython3",
   "version": "3.9.12"
  },
  "orig_nbformat": 4
 },
 "nbformat": 4,
 "nbformat_minor": 2
}
